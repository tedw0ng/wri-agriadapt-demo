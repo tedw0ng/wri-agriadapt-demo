{
 "cells": [
  {
   "cell_type": "markdown",
   "id": "3bbf68f5-0761-437a-8a08-3e01a8b25c1f",
   "metadata": {},
   "source": [
    "# AgriAdapt indicator-probability demo"
   ]
  },
  {
   "cell_type": "markdown",
   "id": "575fbcb5-9839-4801-928f-4f763b806040",
   "metadata": {},
   "source": [
    "For demonstration purposes only. Contact Ted Wong (ted.wong@wri.org) with questions."
   ]
  },
  {
   "cell_type": "code",
   "execution_count": 1,
   "id": "0ab50b8b",
   "metadata": {},
   "outputs": [],
   "source": [
    "import planetary_computer\n",
    "import xarray as xr\n",
    "import fsspec\n",
    "import pystac_client\n",
    "import numpy as np\n",
    "import pandas as pd\n",
    "import datetime, calendar\n",
    "import folium\n",
    "import ipywidgets as widgets\n",
    "from ipyleaflet import Map, Marker, basemaps, basemap_to_tiles"
   ]
  },
  {
   "cell_type": "code",
   "execution_count": 6,
   "id": "0551c544-5812-42e9-bbef-62c860af0d80",
   "metadata": {
    "tags": []
   },
   "outputs": [],
   "source": [
    "#import sys\n",
    "#!{sys.executable} -m pip install pip earthengine-api"
   ]
  },
  {
   "cell_type": "code",
   "execution_count": 4,
   "id": "bbc688ce-091b-4c7a-89d0-53266e2ea1d2",
   "metadata": {},
   "outputs": [],
   "source": [
    "import ee\n",
    "service_account = 'climate-hazard-demo@data-portal-adaptation.iam.gserviceaccount.com'\n",
    "credentials = ee.ServiceAccountCredentials(service_account, '/home/google_cred.json')"
   ]
  },
  {
   "cell_type": "code",
   "execution_count": 5,
   "id": "c70e9cdf-fa4b-4527-bbd9-10571ea16f7d",
   "metadata": {},
   "outputs": [],
   "source": [
    "#ee.Initialize()\n",
    "ee.Initialize(credentials)"
   ]
  },
  {
   "cell_type": "code",
   "execution_count": 7,
   "id": "72efb847-478e-4a3d-8aea-5f9507447046",
   "metadata": {},
   "outputs": [],
   "source": [
    "LEAPLENGTH = {'UKESM1-0-LL': 360,\n",
    " 'NorESM2-MM': 365,\n",
    " 'NorESM2-LM': 365,\n",
    " 'MRI-ESM2-0': 366,\n",
    " 'MPI-ESM1-2-LR': 366,\n",
    " 'MPI-ESM1-2-HR': 366,\n",
    " 'MIROC6': 366,\n",
    " 'MIROC-ES2L': 366,\n",
    " 'KIOST-ESM': 365,\n",
    " 'KACE-1-0-G': 360,\n",
    " 'IPSL-CM6A-LR': 366,\n",
    " 'INM-CM5-0': 365,\n",
    " 'INM-CM4-8': 365,\n",
    " 'HadGEM3-GC31-MM': 360,\n",
    " 'HadGEM3-GC31-LL': 360,\n",
    " 'GFDL-ESM4': 365,\n",
    " 'GFDL-CM4_gr2': 365,\n",
    " 'GFDL-CM4': 365,\n",
    " 'FGOALS-g3': 365,\n",
    " 'EC-Earth3-Veg-LR': 366,\n",
    " 'EC-Earth3': 366,\n",
    " 'CanESM5': 365,\n",
    " 'CNRM-ESM2-1': 366,\n",
    " 'CNRM-CM6-1': 366,\n",
    " 'CMCC-ESM2': 365,\n",
    " 'CMCC-CM2-SR5': 365,\n",
    " 'BCC-CSM2-MR': 365,\n",
    " 'ACCESS-ESM1-5': 366,\n",
    " 'ACCESS-CM2': 366,\n",
    " 'TaiESM1': 365,\n",
    " 'ERA5': 366\n",
    "}\n",
    "\n",
    "EXCLUDED_MODELS = ['TaiESM1', 'ERA5']    # TaiESM1 model has major known biases\n",
    "\n",
    "MODELS = [i for i in LEAPLENGTH.keys() if not i in EXCLUDED_MODELS]\n",
    "\n",
    "HIST_START = 1980\n",
    "HIST_END = 2015\n",
    "\n",
    "EARLY_YEAR = 2030\n",
    "LATE_YEAR = 2080\n",
    "\n",
    "INITIAL_TARGETYEAR = 2040\n",
    "INITIAL_THRESHOLD = 60\n",
    "\n",
    "INITIAL_WINDOW = (' 15 Apr ', ' 10 Sep ')\n",
    "\n",
    "INITIAL_LATLON = (9.9, -84.0)"
   ]
  },
  {
   "cell_type": "code",
   "execution_count": 8,
   "id": "5cf6002c-aa7f-40cb-8353-f69ce0900e9f",
   "metadata": {},
   "outputs": [],
   "source": [
    "def dtg34(windowdata):\n",
    "    return np.sum(windowdata >= 35, axis=1)\n",
    "def dtl10(windowdata):\n",
    "    return np.sum(windowdata <= 10, axis=1)\n",
    "def aplx(windowdata):\n",
    "    return np.sum(windowdata, axis=1)\n",
    "\n",
    "\n",
    "indicators = {\n",
    "    'dtg34': {\n",
    "            'name': 'dtg34',\n",
    "            'greaterthan': True,\n",
    "            'nex_varname': 'tasmax',\n",
    "            'era5_varname': 'maximum_2m_air_temperature',\n",
    "            'range': [1, 365, 1],\n",
    "            'nex_multiply': 1,\n",
    "            'nex_add': -273.15,\n",
    "            'era5_multiply': 1,\n",
    "            'era5_add': -273.15,\n",
    "            'function': dtg34\n",
    "    },\n",
    "    'dtl10': {\n",
    "            'name': 'dtl10',\n",
    "            'greaterthan': False,\n",
    "            'nex_varname': 'tasmin',\n",
    "            'era5_varname': 'minimum_2m_air_temperature',\n",
    "            'range': [1, 365, 1],\n",
    "            'nex_multiply': 1,\n",
    "            'nex_add': -273.15,\n",
    "            'era5_multiply': 1,\n",
    "            'era5_add': -273.15,\n",
    "            'function': dtl10\n",
    "    },\n",
    "    'aplx': {\n",
    "            'name': 'aplx',\n",
    "            'greaterthan': False,\n",
    "            'nex_varname': 'pr',\n",
    "            'era5_varname': 'total_precipitation',\n",
    "            'range': [0, 2000, 100],\n",
    "            'nex_multiply': 86400,\n",
    "            'nex_add': 0,\n",
    "            'era5_multiply': 1000,\n",
    "            'era5_add': 0,\n",
    "            'function': aplx\n",
    "    }    \n",
    "}"
   ]
  },
  {
   "cell_type": "code",
   "execution_count": 9,
   "id": "a1aa6366-8181-4d0d-9e63-a5d23473ea4f",
   "metadata": {},
   "outputs": [],
   "source": [
    "catalog = pystac_client.Client.open(\n",
    "    \"https://planetarycomputer.microsoft.com/api/stac/v1/\"\n",
    ")\n",
    "collection = catalog.get_collection(\"nasa-nex-gddp-cmip6\")"
   ]
  },
  {
   "cell_type": "code",
   "execution_count": 10,
   "id": "e3c3de71-0a77-415d-850e-fc56b790a7e2",
   "metadata": {},
   "outputs": [],
   "source": [
    "def d2j(datestring):\n",
    "    d = datetime.date.fromisoformat(datestring)\n",
    "    jday = d.timetuple().tm_yday\n",
    "    if calendar.isleap(d.year) and jday > 59:\n",
    "        jday -= 1\n",
    "    return jday\n",
    "def j2d(jdate, year):\n",
    "    y = year\n",
    "    jan1 = datetime.date(year=year, month=1, day=1)\n",
    "    newdate = jan1 + datetime.timedelta(days=jdate-1)\n",
    "    return newdate.isoformat()"
   ]
  },
  {
   "cell_type": "code",
   "execution_count": 11,
   "id": "ddd9a472-967c-4ea9-ad43-1ec377e00a29",
   "metadata": {},
   "outputs": [],
   "source": [
    "statusbox = widgets.HTML()\n",
    "resultbox = widgets.HTML()\n",
    "debugbox = widgets.HTML()"
   ]
  },
  {
   "cell_type": "code",
   "execution_count": 12,
   "id": "56037eb0-ce92-4d6b-ba9c-cd6b51008578",
   "metadata": {
    "tags": []
   },
   "outputs": [],
   "source": [
    "def indicator_magnitudes(lat, lon, window, year, indicator):\n",
    "    geom = {\n",
    "        'type': Point,\n",
    "        'coordinates': [lon, lat]\n",
    "    }\n",
    "    nex_varname = indicator['nex_varname']\n",
    "    indicator_fxn = indicator['function']\n",
    "    window_start, window_end = window\n",
    "    thevar = []\n",
    "    for model in MODELS:\n",
    "        statusbox.set_trait('value', 'Collecting model projections<br><br>{0} / {1}'.format(MODELS.index(model) + 1, len(MODELS)))\n",
    "        debugbox.set_trait('value', 'Searching catalog for {}'.format(model))\n",
    "        search = catalog.search(\n",
    "            collections=[\"nasa-nex-gddp-cmip6\"],\n",
    "            datetime=\"{0}/{0}\".format(year),\n",
    "            query={\"cmip6:model\": {\"eq\": model}, \"cmip6:scenario\": {\"eq\": \"ssp585\"}},\n",
    "        )\n",
    "        items = search.get_all_items()\n",
    "        if items:\n",
    "            item = items[0]\n",
    "            if nex_varname in list(item.assets.keys()):\n",
    "                debugbox.set_trait('value', 'Retrieving {} from STAC'.format(model))\n",
    "                signed_item = planetary_computer.sign(item)\n",
    "                debugbox.set_trait('value', 'Retrieving {} from STAC (1)'.format(model))\n",
    "                href = signed_item.assets[nex_varname].href\n",
    "                debugbox.set_trait('value', 'Retrieving {} from STAC (1.1)'.format(model))\n",
    "                openf = fsspec.open(href).open()\n",
    "                debugbox.set_trait('value', 'Retrieving {} from STAC (1.2)'.format(model))\n",
    "                data = xr.open_dataset(openf)\n",
    "                debugbox.set_trait('value', 'Retrieving {} from STAC (2)'.format(model))\n",
    "                localdata = data.sel(lat=lat, lon=lon, method='nearest')\n",
    "                debugbox.set_trait('value', 'Retrieving {} from STAC (3)'.format(model))\n",
    "                if LEAPLENGTH[model] > 360:\n",
    "                    startj = d2j(\"{0}-{1}\".format(year, window_start))\n",
    "                    endj = d2j(\"{0}-{1}\".format(year, window_end))\n",
    "                    debugbox.set_trait('value', 'Appending {} to all-models array'.format(model))\n",
    "                    thevar.append(localdata.variables[nex_varname][startj-1:endj])\n",
    "    debugbox.set_trait('value', '')\n",
    "    statusbox.set_trait('value', 'Processing model projections<br><br>')\n",
    "    thevar_arr = (np.array(thevar, float) * indicator['nex_multiply']) + indicator['nex_add']\n",
    "    return indicator_fxn(thevar_arr)"
   ]
  },
  {
   "cell_type": "code",
   "execution_count": 13,
   "id": "fa2f6d7a-3244-4920-b625-59c0ae4edf95",
   "metadata": {},
   "outputs": [],
   "source": [
    "def model_projections(lat, lon, window, target_year, indicator):\n",
    "    statusbox.set_trait('value', 'Collecting model projections')\n",
    "    mags = []\n",
    "    for year in range(target_year, target_year + 1):\n",
    "        mags.append(indicator_magnitudes(lat, lon, window, year, indicator))\n",
    "    #proj_hazard = pd.DataFrame(gtes, index=list(range(PROJ_START, PROJ_END+1)))\n",
    "    return np.reshape(mags, (target_year - target_year + 1, 25))  # 25 is number of usable models"
   ]
  },
  {
   "cell_type": "code",
   "execution_count": 14,
   "id": "184e459d-ee2d-4eda-8469-54dff96ae2f4",
   "metadata": {},
   "outputs": [],
   "source": [
    "def hist_mags_gee(lat, lon, window, indicator):\n",
    "    era5_varname = indicator['era5_varname']\n",
    "    is_forecast = era5_varname == \"precipitation_amount_1hour_Accumulation\"\n",
    "    indicator_fxn = indicator['function']\n",
    "    statusbox.set_trait('value', 'Collecting historical values')\n",
    "    startmonth, endmonth = datetime.datetime.strptime(window[0], '%m-%d').month, datetime.datetime.strptime(window[1], '%m-%d').month\n",
    "\n",
    "    gee_geom = ee.Geometry.Point((lon, lat))\n",
    "\n",
    "    allyears = []\n",
    "    for year in range(HIST_START, HIST_END + 1):\n",
    "        window_start = datetime.datetime.strptime('{0}-{1}'.format(year, window[0]), '%Y-%m-%d')\n",
    "        window_end_plusone = datetime.datetime.strptime('{0}-{1}'.format(year, window[1]), '%Y-%m-%d') + datetime.timedelta(days=1) \n",
    "        statusbox.set_trait('value', 'Collecting historical values<br><br>{0} / {1}'.format(list(range(HIST_START, HIST_END + 1)).index(year) + 1, HIST_END - HIST_START + 1))\n",
    "\n",
    "        era5_varname = indicator['era5_varname']\n",
    "        ERA5 = ee.ImageCollection(\"ECMWF/ERA5/DAILY\")\n",
    "        era5_vars = ERA5.select(era5_varname)\n",
    "\n",
    "\n",
    "        yeardata = pd.DataFrame(era5_vars.filterDate(window_start.strftime('%Y-%m-%d'), window_end_plusone.strftime('%Y-%m-%d')).getRegion(gee_geom, 25000, 'epsg:4326').getInfo())[4][1:]\n",
    "\n",
    "        allyears.append(yeardata)\n",
    "    return indicator_fxn((np.array(allyears) * indicator['era5_multiply']) + indicator['era5_add'])"
   ]
  },
  {
   "cell_type": "code",
   "execution_count": 15,
   "id": "b101e6b8-2235-489d-881f-d0c51e081ba1",
   "metadata": {
    "tags": []
   },
   "outputs": [],
   "source": [
    "def get_naiveprob(magnitude_data, threshold, want_greater=True):\n",
    "    if want_greater:\n",
    "        return np.mean(magnitude_data >= threshold)\n",
    "    else:\n",
    "        return np.mean(magnitude_data <= threshold)\n",
    "\n",
    "def naives(lat, lon, thresh, window, indicator):\n",
    "\n",
    "    statusbox.set_trait('value', 'Calculating Bayesian parameters')\n",
    "    #early_mags = indicator_magnitudes(EARLY_YEAR)\n",
    "    #late_mags = indicator_magnitudes(LATE_YEAR)\n",
    "\n",
    "    early_naiveprob = get_naiveprob(indicator_magnitudes(lat, lon, window, EARLY_YEAR, indicator), thresh)\n",
    "    late_naiveprob = get_naiveprob(indicator_magnitudes(lat, lon, window, LATE_YEAR, indicator), thresh)\n",
    "    #early_naiveprobs = []\n",
    "    #late_naiveprobs = []\n",
    "    #for threshold in range(0,365):\n",
    "    #    early_naiveprobs.append(get_naiveprob(early_mags, threshold, True))\n",
    "    #    late_naiveprobs.append(get_naiveprob(late_mags, threshold, True))\n",
    "    #early_naive = pd.DataFrame(early_naiveprobs, index=list(range(0,365)))\n",
    "    #late_naive = pd.DataFrame(late_naiveprobs, index=list(range(0,365)))\n",
    "    return early_naiveprob, late_naiveprob"
   ]
  },
  {
   "cell_type": "code",
   "execution_count": 16,
   "id": "56246f77-6efd-4284-a1fe-d128e5cf0b00",
   "metadata": {},
   "outputs": [],
   "source": [
    "def alphabeta(hist_mags, threshold, want_greater=True):\n",
    "    if want_greater:\n",
    "        return(1 + np.sum(hist_mags >= threshold), 1 + np.sum(hist_mags < threshold))\n",
    "    else:\n",
    "        return(1 + np.sum(hist_mags <= threshold), 1 + np.sum(hist_mags > threshold))\n",
    "    \n",
    "#alpha, beta = alphabeta(hist_hazards, threshold)"
   ]
  },
  {
   "cell_type": "code",
   "execution_count": 17,
   "id": "4efe2705-8394-4196-8fbd-d0124931a13d",
   "metadata": {},
   "outputs": [],
   "source": [
    "def do_one_location(button):\n",
    "    resultbox.set_trait('value', 'Calculating...')\n",
    "    #hazard = HAZARD\n",
    "    mlat, mlon = marker.location\n",
    "    windowstart_str = datetime.datetime.strptime(window_slider.value[0], ' %d %b ')\n",
    "    windowend_str = datetime.datetime.strptime(window_slider.value[1], ' %d %b ')\n",
    "    window = (windowstart_str.strftime('%m-%d'), windowend_str.strftime('%m-%d'))\n",
    "    indicator = indicators[indicator_selector.value]\n",
    "    threshold = threshold_slider.value\n",
    "    target_year = year_slider.value\n",
    "    proj_hazard = model_projections(mlat, mlon, window, target_year, indicator)\n",
    "    hist_hazards = hist_mags_gee(mlat, mlon, window, indicator)\n",
    "#    earlynaive, latenaive = naives(mlat, mlon, threshold, window, indicator)\n",
    "    alpha, beta = alphabeta(hist_hazards, threshold)\n",
    "#    alpha_prime = alpha * (target_year - EARLY_YEAR) * (latenaive - earlynaive) / (LATE_YEAR - EARLY_YEAR)\n",
    "#    beta_prime = beta * (target_year - EARLY_YEAR) * (1-(latenaive) - (1-earlynaive)) / (LATE_YEAR - EARLY_YEAR)\n",
    "    hits = np.mean(proj_hazard >= threshold, axis=1)\n",
    "    misses = np.mean(proj_hazard < threshold, axis=1)\n",
    "#    result = (alpha_prime + hits) / (beta_prime + alpha_prime + misses + hits)\n",
    "    result = (alpha + hits) / (beta + alpha + misses + hits)\n",
    "    resultbox.set_trait('value', str(result))\n",
    "    statusbox.set_trait('value', 'READY')"
   ]
  },
  {
   "cell_type": "code",
   "execution_count": 18,
   "id": "6d0aef59-4e79-40b0-8741-15a395781ec1",
   "metadata": {},
   "outputs": [],
   "source": [
    "the_map = Map(\n",
    "    basemap=basemap_to_tiles(basemaps.OpenStreetMap.Mapnik),\n",
    "    center=INITIAL_LATLON,\n",
    "    zoom=10\n",
    "    )"
   ]
  },
  {
   "cell_type": "code",
   "execution_count": 19,
   "id": "75e7ed77-84e7-4866-af98-7f45b9014273",
   "metadata": {},
   "outputs": [],
   "source": [
    "marker = Marker(location=INITIAL_LATLON, draggable=True)\n",
    "#marker.on_move(do_one_location)\n",
    "the_map.add_layer(marker)"
   ]
  },
  {
   "cell_type": "code",
   "execution_count": 20,
   "id": "2adccc57-e924-48c8-92fc-07199f636e53",
   "metadata": {},
   "outputs": [],
   "source": [
    "button = widgets.Button(\n",
    "    description='Calculate',\n",
    "    disabled=False,\n",
    "    button_style='', # 'success', 'info', 'warning', 'danger' or ''\n",
    "    tooltip='Calculate indicator with selected parameters',\n",
    "    icon='calculator' # (FontAwesome names without the `fa-` prefix)\n",
    ")\n",
    "button.on_click(do_one_location)"
   ]
  },
  {
   "cell_type": "code",
   "execution_count": 21,
   "id": "2cbdc77b-9dbe-4589-a723-d104862f9b33",
   "metadata": {
    "tags": []
   },
   "outputs": [],
   "source": [
    "windowslider_startdate = datetime.datetime(2030, 1, 1)\n",
    "windowslider_enddate = datetime.datetime(2030, 12, 31)\n",
    "windowslider_dates = pd.date_range(windowslider_startdate, windowslider_enddate, freq='D')\n",
    "\n",
    "windowslider_options = [( windowslider_date.strftime(' %d %b ')) for windowslider_date in windowslider_dates]\n",
    "windowslider_index = (0, len(windowslider_options)-1)\n",
    "\n",
    "window_slider = widgets.SelectionRangeSlider(\n",
    "    options=windowslider_options,\n",
    "    index=windowslider_index,\n",
    "    value=INITIAL_WINDOW,\n",
    "    description='Growing season',\n",
    "    orientation='horizontal',\n",
    "    layout={'width': '400px'}\n",
    ")"
   ]
  },
  {
   "cell_type": "code",
   "execution_count": 22,
   "id": "f69c9598-b202-487b-ba74-f31a3fc34223",
   "metadata": {},
   "outputs": [],
   "source": [
    "threshold_slider = widgets.IntSlider(\n",
    "    value=INITIAL_THRESHOLD,\n",
    "    min=0,\n",
    "    max=365,\n",
    "    step=1,\n",
    "    description='threshold',\n",
    "    continuous_update=False,\n",
    "    disabled=False\n",
    ")\n",
    "year_slider = widgets.IntSlider(\n",
    "    value=INITIAL_TARGETYEAR,\n",
    "    min=2030,\n",
    "    max=2050,\n",
    "    step=1,\n",
    "    description='year of interest',\n",
    "    continuous_update=False,\n",
    "    disabled=False\n",
    ")"
   ]
  },
  {
   "cell_type": "code",
   "execution_count": 23,
   "id": "4bdd2303-b665-4b85-909a-c4bea9403c1d",
   "metadata": {},
   "outputs": [],
   "source": [
    "def update_thresholdrange(e):\n",
    "    indicator = indicators[indicator_selector.value]\n",
    "    threshold_slider.min = indicator['range'][0]\n",
    "    threshold_slider.max = indicator['range'][1]\n",
    "    threshold_slider.step = indicator['range'][2]\n",
    "    \n",
    "indicator_selector = widgets.Dropdown(\n",
    "    options=[('days temp > 34', 'dtg34'), ('days temp < 10', 'dtl10'), ('annual precip < x', 'aplx')],\n",
    "    value='dtg34',\n",
    "    description='Indicator ',\n",
    ")\n",
    "indicator_selector.observe(update_thresholdrange)"
   ]
  },
  {
   "cell_type": "code",
   "execution_count": 24,
   "id": "f99fa846-7fdd-4cce-9141-4f1999d37aeb",
   "metadata": {},
   "outputs": [
    {
     "data": {
      "application/vnd.jupyter.widget-view+json": {
       "model_id": "c9cf66729cf748ceab95d0a5d387afb9",
       "version_major": 2,
       "version_minor": 0
      },
      "text/plain": [
       "Map(center=[9.9, -84.0], controls=(ZoomControl(options=['position', 'zoom_in_text', 'zoom_in_title', 'zoom_out…"
      ]
     },
     "metadata": {},
     "output_type": "display_data"
    }
   ],
   "source": [
    "display(the_map)"
   ]
  },
  {
   "cell_type": "code",
   "execution_count": 25,
   "id": "731c92c4-eed2-45d2-be39-09174ce89f35",
   "metadata": {},
   "outputs": [
    {
     "data": {
      "application/vnd.jupyter.widget-view+json": {
       "model_id": "252dec10947141959af0c66ea8aaeb79",
       "version_major": 2,
       "version_minor": 0
      },
      "text/plain": [
       "VBox(children=(HBox(children=(VBox(children=(Dropdown(description='Indicator ', options=(('days temp > 34', 'd…"
      ]
     },
     "metadata": {},
     "output_type": "display_data"
    }
   ],
   "source": [
    "input_box = widgets.VBox([widgets.HBox([widgets.VBox([indicator_selector,threshold_slider]), widgets.VBox([year_slider, window_slider])]), button])\n",
    "display(input_box)"
   ]
  },
  {
   "cell_type": "code",
   "execution_count": 26,
   "id": "7e390fad-2074-4f95-a7c5-26a7b1bdceca",
   "metadata": {},
   "outputs": [
    {
     "data": {
      "application/vnd.jupyter.widget-view+json": {
       "model_id": "6b08da8a67da420e86ef5d60a5530212",
       "version_major": 2,
       "version_minor": 0
      },
      "text/plain": [
       "HBox(children=(HTML(value=''), HTML(value=''), HTML(value='')))"
      ]
     },
     "metadata": {},
     "output_type": "display_data"
    }
   ],
   "source": [
    "output_box = widgets.HBox([statusbox, resultbox, debugbox])\n",
    "display(output_box)"
   ]
  }
 ],
 "metadata": {
  "kernelspec": {
   "display_name": "Python 3 (ipykernel)",
   "language": "python",
   "name": "python3"
  },
  "language_info": {
   "codemirror_mode": {
    "name": "ipython",
    "version": 3
   },
   "file_extension": ".py",
   "mimetype": "text/x-python",
   "name": "python",
   "nbconvert_exporter": "python",
   "pygments_lexer": "ipython3",
   "version": "3.8.13"
  }
 },
 "nbformat": 4,
 "nbformat_minor": 5
}
